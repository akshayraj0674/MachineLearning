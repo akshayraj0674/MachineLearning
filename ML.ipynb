{
 "cells": [
  {
   "cell_type": "code",
   "execution_count": null,
   "id": "19cc63d3",
   "metadata": {
    "lines_to_next_cell": 2
   },
   "outputs": [],
   "source": [
    "import numpy as np\n",
    "import pandas as pd\n",
    "from scipy.stats import boxcox\n",
    "from sklearn.linear_model import LinearRegression\n",
    "from sklearn.metrics import mean_squared_error\n",
    "from sklearn.model_selection import train_test_split"
   ]
  },
  {
   "cell_type": "code",
   "execution_count": null,
   "id": "45a0f526",
   "metadata": {},
   "outputs": [],
   "source": [
    "train_url = 'https://raw.githubusercontent.com/akshayraj0674/MachineLearning/refs/heads/main/project-1-me-4127-e-2025-26/train.csv'\n",
    "test_url = 'https://raw.githubusercontent.com/akshayraj0674/MachineLearning/refs/heads/main/project-1-me-4127-e-2025-26/test.csv'\n",
    "sample_submission_url = 'https://raw.githubusercontent.com/akshayraj0674/MachineLearning/refs/heads/main/project-1-me-4127-e-2025-26/sample_submission.csv'"
   ]
  },
  {
   "cell_type": "code",
   "execution_count": null,
   "id": "2bd3860a",
   "metadata": {
    "lines_to_next_cell": 2
   },
   "outputs": [],
   "source": [
    "train = pd.read_csv(train_url)\n",
    "test = pd.read_csv(test_url)\n",
    "sample_submission = pd.read_csv(sample_submission_url)"
   ]
  },
  {
   "cell_type": "code",
   "execution_count": null,
   "id": "02d402c1",
   "metadata": {
    "lines_to_next_cell": 2
   },
   "outputs": [],
   "source": [
    "print(train.head())\n",
    "print(test.head())\n",
    "print(sample_submission.head())"
   ]
  },
  {
   "cell_type": "code",
   "execution_count": null,
   "id": "f04ad882",
   "metadata": {},
   "outputs": [],
   "source": [
    "target = 'cost'"
   ]
  },
  {
   "cell_type": "code",
   "execution_count": null,
   "id": "0e1a8230",
   "metadata": {},
   "outputs": [],
   "source": [
    "features = [col for col in train.columns if col not in [target, 'id']]"
   ]
  },
  {
   "cell_type": "code",
   "execution_count": null,
   "id": "438db467",
   "metadata": {
    "lines_to_next_cell": 2
   },
   "outputs": [],
   "source": [
    "x = train[features].values\n",
    "y = train[target].values"
   ]
  },
  {
   "cell_type": "code",
   "execution_count": null,
   "id": "8b9fd733",
   "metadata": {
    "lines_to_next_cell": 2
   },
   "outputs": [],
   "source": [
    "if np.any(y <= 0):\n",
    "    shift = np.abs(np.min(y)) + 1\n",
    "    y_bc, bc_lambda = boxcox(y + shift)\n",
    "else:\n",
    "    shift = 0\n",
    "    y_bc, bc_lambda = boxcox(y)"
   ]
  },
  {
   "cell_type": "code",
   "execution_count": null,
   "id": "aaef3c13",
   "metadata": {
    "lines_to_next_cell": 2
   },
   "outputs": [],
   "source": [
    "x_train, x_val, y_train_bc, y_val_bc = train_test_split(x, y_bc, test_size=0.2, random_state=42)"
   ]
  },
  {
   "cell_type": "code",
   "execution_count": null,
   "id": "3c4b2bef",
   "metadata": {
    "lines_to_next_cell": 2
   },
   "outputs": [],
   "source": [
    "lr = LinearRegression()\n",
    "lr.fit(x_train, y_train_bc)"
   ]
  },
  {
   "cell_type": "code",
   "execution_count": null,
   "id": "35e9f1e5",
   "metadata": {},
   "outputs": [],
   "source": [
    "y_val_pred_bc = lr.predict(x_val)"
   ]
  },
  {
   "cell_type": "code",
   "execution_count": null,
   "id": "1d2aa26b",
   "metadata": {},
   "outputs": [],
   "source": [
    "def inv_boxcox(y, lmbda, shift):\n",
    "    if lmbda == 0:\n",
    "        return np.exp(y) - shift\n",
    "    else:\n",
    "        return np.power(y * lmbda + 1, 1 / lmbda) - shift"
   ]
  },
  {
   "cell_type": "code",
   "execution_count": null,
   "id": "4e0041b8",
   "metadata": {
    "lines_to_next_cell": 2
   },
   "outputs": [],
   "source": [
    "y_value_pred = inv_boxcox(y_val_pred_bc, bc_lambda, shift)\n",
    "y_value_true = inv_boxcox(y_val_bc, bc_lambda, shift)"
   ]
  },
  {
   "cell_type": "code",
   "execution_count": null,
   "id": "816c6281",
   "metadata": {
    "lines_to_next_cell": 2
   },
   "outputs": [],
   "source": [
    "lr.fit(x, y_bc)"
   ]
  },
  {
   "cell_type": "code",
   "execution_count": null,
   "id": "e3312ec6",
   "metadata": {
    "lines_to_next_cell": 2
   },
   "outputs": [],
   "source": [
    "x_test = test[features].values\n",
    "y_test_pred_bc = lr.predict(x_test)\n",
    "y_test_pred = inv_boxcox(y_test_pred_bc, bc_lambda, shift)"
   ]
  },
  {
   "cell_type": "code",
   "execution_count": null,
   "id": "b8982140",
   "metadata": {},
   "outputs": [],
   "source": [
    "submission = sample_submission.copy()\n",
    "submission[target] = y_test_pred\n",
    "submission.to_csv('submission.csv', index=False)"
   ]
  }
 ],
 "metadata": {
  "jupytext": {
   "cell_metadata_filter": "-all",
   "main_language": "python",
   "notebook_metadata_filter": "-all"
  }
 },
 "nbformat": 4,
 "nbformat_minor": 5
}
