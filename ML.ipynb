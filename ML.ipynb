{
 "cells": [
  {
   "cell_type": "code",
   "execution_count": null,
   "id": "ca69f2e0",
   "metadata": {
    "lines_to_next_cell": 2
   },
   "outputs": [],
   "source": [
    "import numpy as np\n",
    "import pandas as pd\n",
    "from scipy.stats import boxcox\n",
    "from sklearn.linear_model import LinearRegression, Lasso\n",
    "from sklearn.metrics import mean_squared_error\n",
    "from sklearn.model_selection import train_test_split"
   ]
  },
  {
   "cell_type": "code",
   "execution_count": null,
   "id": "90a41e65",
   "metadata": {},
   "outputs": [],
   "source": [
    "train_url = 'https://raw.githubusercontent.com/akshayraj0674/MachineLearning/refs/heads/main/project-1-me-4127-e-2025-26/train.csv'\n",
    "test_url = 'https://raw.githubusercontent.com/akshayraj0674/MachineLearning/refs/heads/main/project-1-me-4127-e-2025-26/test.csv'\n",
    "sample_submission_url = 'https://raw.githubusercontent.com/akshayraj0674/MachineLearning/refs/heads/main/project-1-me-4127-e-2025-26/sample_submission.csv'"
   ]
  },
  {
   "cell_type": "code",
   "execution_count": null,
   "id": "0fe395a1",
   "metadata": {
    "lines_to_next_cell": 2
   },
   "outputs": [],
   "source": [
    "train = pd.read_csv(train_url)\n",
    "test = pd.read_csv(test_url)\n",
    "sample_submission = pd.read_csv(sample_submission_url)"
   ]
  },
  {
   "cell_type": "code",
   "execution_count": null,
   "id": "057fa1da",
   "metadata": {
    "lines_to_next_cell": 2
   },
   "outputs": [],
   "source": [
    "print(train.head())\n",
    "print(test.head())\n",
    "print(sample_submission.head())"
   ]
  },
  {
   "cell_type": "code",
   "execution_count": null,
   "id": "2afed48f",
   "metadata": {},
   "outputs": [],
   "source": [
    "target = 'cost'"
   ]
  },
  {
   "cell_type": "code",
   "execution_count": null,
   "id": "d7eeae43",
   "metadata": {},
   "outputs": [],
   "source": [
    "features = [col for col in train.columns if col not in [target, 'id']]"
   ]
  },
  {
   "cell_type": "code",
   "execution_count": null,
   "id": "7954daf5",
   "metadata": {
    "lines_to_next_cell": 2
   },
   "outputs": [],
   "source": [
    "x = train[features].values\n",
    "y = train[target].values"
   ]
  },
  {
   "cell_type": "code",
   "execution_count": null,
   "id": "93a90bf4",
   "metadata": {
    "lines_to_next_cell": 2
   },
   "outputs": [],
   "source": [
    "if np.any(y <= 0):\n",
    "    shift = np.abs(np.min(y)) + 1\n",
    "    y_bc, bc_lambda = boxcox(y + shift)\n",
    "else:\n",
    "    shift = 0\n",
    "    y_bc, bc_lambda = boxcox(y)"
   ]
  },
  {
   "cell_type": "code",
   "execution_count": null,
   "id": "312cf07c",
   "metadata": {
    "lines_to_next_cell": 2
   },
   "outputs": [],
   "source": [
    "x_train, x_val, y_train_bc, y_val_bc = train_test_split(x, y_bc, test_size=0.2, random_state=42)"
   ]
  },
  {
   "cell_type": "code",
   "execution_count": null,
   "id": "b48454b2",
   "metadata": {
    "lines_to_next_cell": 2
   },
   "outputs": [],
   "source": [
    "lr = LinearRegression()\n",
    "lr.fit(x_train, y_train_bc)\n",
    "y_val_pred_bc_lr = lr.predict(x_val)"
   ]
  },
  {
   "cell_type": "code",
   "execution_count": null,
   "id": "fa7c175d",
   "metadata": {},
   "outputs": [],
   "source": [
    "lasso = Lasso(alpha=.1, max_iter=1000)\n",
    "lasso.fit(x_train, y_train_bc)\n",
    "y_val_pred_bc_lasso = lasso.predict(x_val)"
   ]
  },
  {
   "cell_type": "code",
   "execution_count": null,
   "id": "23779dc2",
   "metadata": {},
   "outputs": [],
   "source": [
    "def inv_boxcox(y, lmbda, shift=0):\n",
    "    if lmbda == 0:\n",
    "        return np.exp(y) - shift\n",
    "    else:\n",
    "        return np.power(y * lmbda + 1, 1 / lmbda) - shift"
   ]
  },
  {
   "cell_type": "code",
   "execution_count": null,
   "id": "5e0be9a2",
   "metadata": {
    "lines_to_next_cell": 2
   },
   "outputs": [],
   "source": [
    "y_value_pred_lr = inv_boxcox(y_val_pred_bc_lr, bc_lambda, shift)\n",
    "y_value_pred_lasso = inv_boxcox(y_val_pred_bc_lasso, bc_lambda, shift)\n",
    "y_value_true = inv_boxcox(y_val_bc, bc_lambda, shift)"
   ]
  },
  {
   "cell_type": "code",
   "execution_count": null,
   "id": "53b9fad7",
   "metadata": {
    "lines_to_next_cell": 2
   },
   "outputs": [],
   "source": [
    "rmse_lr = np.sqrt(mean_squared_error(y_value_true, y_value_pred_lr))\n",
    "rmse_lasso = np.sqrt(mean_squared_error(y_value_true, y_value_pred_lasso))\n",
    "print(f\"Validation RMSE (Linear Regression): {rmse_lr:.4f}\")\n",
    "print(f\"Validation RMSE (Lasso): {rmse_lasso:.4f}\")"
   ]
  },
  {
   "cell_type": "code",
   "execution_count": null,
   "id": "cf04963e",
   "metadata": {
    "lines_to_next_cell": 2
   },
   "outputs": [],
   "source": [
    "lasso.fit(x, y_bc)\n",
    "x_test = test[features].values\n",
    "y_test_pred_bc_lasso = lasso.predict(x_test)\n",
    "y_test_pred_lasso = inv_boxcox(y_test_pred_bc_lasso, bc_lambda, shift)"
   ]
  },
  {
   "cell_type": "code",
   "execution_count": null,
   "id": "e4ddbd03",
   "metadata": {},
   "outputs": [],
   "source": [
    "submission = sample_submission.copy()\n",
    "submission[target] = y_test_pred_lasso\n",
    "submission.to_csv('submission.csv', index=False)"
   ]
  }
 ],
 "metadata": {
  "jupytext": {
   "cell_metadata_filter": "-all",
   "main_language": "python",
   "notebook_metadata_filter": "-all"
  }
 },
 "nbformat": 4,
 "nbformat_minor": 5
}
